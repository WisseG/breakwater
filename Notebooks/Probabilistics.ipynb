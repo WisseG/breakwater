{
 "cells": [
  {
   "cell_type": "code",
   "execution_count": 1,
   "metadata": {},
   "outputs": [],
   "source": [
    "import breakwater as bw\n",
    "import numpy as np"
   ]
  },
  {
   "cell_type": "code",
   "execution_count": 2,
   "metadata": {},
   "outputs": [
    {
     "name": "stderr",
     "output_type": "stream",
     "text": [
      "c:\\users\\p17\\documents\\github\\breakwater\\breakwater\\core\\stability.py:28: RuntimeWarning: invalid value encountered in power\n",
      "  xi_cr = (Cpl/Cs * P**0.31 * np.sqrt(np.tan(alpha)))**(1/(P+0.5))\n"
     ]
    },
    {
     "data": {
      "text/html": [
       "<div>\n",
       "<style scoped>\n",
       "    .dataframe tbody tr th:only-of-type {\n",
       "        vertical-align: middle;\n",
       "    }\n",
       "\n",
       "    .dataframe tbody tr th {\n",
       "        vertical-align: top;\n",
       "    }\n",
       "\n",
       "    .dataframe thead th {\n",
       "        text-align: right;\n",
       "    }\n",
       "</style>\n",
       "<table border=\"1\" class=\"dataframe\">\n",
       "  <thead>\n",
       "    <tr style=\"text-align: right;\">\n",
       "      <th></th>\n",
       "      <th>Pf</th>\n",
       "      <th>Pf_mc</th>\n",
       "      <th>Pf &lt; Pf_mc</th>\n",
       "    </tr>\n",
       "  </thead>\n",
       "  <tbody>\n",
       "    <tr>\n",
       "      <th>0</th>\n",
       "      <td>0.00002</td>\n",
       "      <td>0.000001</td>\n",
       "      <td>True</td>\n",
       "    </tr>\n",
       "  </tbody>\n",
       "</table>\n",
       "</div>"
      ],
      "text/plain": [
       "        Pf     Pf_mc  Pf < Pf_mc\n",
       "0  0.00002  0.000001        True"
      ]
     },
     "execution_count": 2,
     "metadata": {},
     "output_type": "execute_result"
    }
   ],
   "source": [
    "N = 1000000\n",
    "\n",
    "Cpl = np.random.normal(0.6, 0.1, N)\n",
    "Cs = np.random.normal(0.5, 0.1, N)\n",
    "P = np.random.normal(1, 0.1, N)\n",
    "Sd = np.random.normal(4, 0.1, N)\n",
    "Nw = np.random.normal(3600, 100, N)\n",
    "alpha = np.random.normal(0.5, 0.01, N)\n",
    "Hs = np.random.normal(5, 1, N)\n",
    "rho_w = np.random.normal(1025, 5, N)\n",
    "rho_s = np.random.normal(2600, 50, N)\n",
    "dn50 = np.random.normal(3.5, 0.1, N)\n",
    "T = np.random.normal(9, 1, N)\n",
    "\n",
    "mc = bw.MonteCarlo(Pf=2e-5,\n",
    "                   zfunc = 'VdMeer',\n",
    "                   Cpl=Cpl, \n",
    "                   Cs= Cs, \n",
    "                   P=P, \n",
    "                   Sd=Sd, \n",
    "                   N=Nw, \n",
    "                   T=T, \n",
    "                   alpha=alpha, \n",
    "                   Hs=Hs, \n",
    "                   rho_w=rho_w, \n",
    "                   rho_s=rho_s, \n",
    "                   dn50=dn50)\n",
    "\n",
    "mc"
   ]
  },
  {
   "cell_type": "code",
   "execution_count": 7,
   "metadata": {},
   "outputs": [
    {
     "name": "stdout",
     "output_type": "stream",
     "text": [
      "[0.14177181 0.58084773 0.21120886 ... 0.70671082 0.43645653 0.46832583]\n"
     ]
    },
    {
     "data": {
      "text/html": [
       "<div>\n",
       "<style scoped>\n",
       "    .dataframe tbody tr th:only-of-type {\n",
       "        vertical-align: middle;\n",
       "    }\n",
       "\n",
       "    .dataframe tbody tr th {\n",
       "        vertical-align: top;\n",
       "    }\n",
       "\n",
       "    .dataframe thead th {\n",
       "        text-align: right;\n",
       "    }\n",
       "</style>\n",
       "<table border=\"1\" class=\"dataframe\">\n",
       "  <thead>\n",
       "    <tr style=\"text-align: right;\">\n",
       "      <th></th>\n",
       "      <th>Pf</th>\n",
       "      <th>Pf_mc</th>\n",
       "      <th>Pf &lt; Pf_mc</th>\n",
       "    </tr>\n",
       "  </thead>\n",
       "  <tbody>\n",
       "    <tr>\n",
       "      <th>0</th>\n",
       "      <td>2.000000e-10</td>\n",
       "      <td>0.000001</td>\n",
       "      <td>False</td>\n",
       "    </tr>\n",
       "  </tbody>\n",
       "</table>\n",
       "</div>"
      ],
      "text/plain": [
       "             Pf     Pf_mc  Pf < Pf_mc\n",
       "0  2.000000e-10  0.000001       False"
      ]
     },
     "execution_count": 7,
     "metadata": {},
     "output_type": "execute_result"
    }
   ],
   "source": [
    "mc = bw.MonteCarlo(Pf=2e-10,\n",
    "                   zfunc = 'Hudson',\n",
    "                   Kd = 1,\n",
    "                   Hs=Hs,\n",
    "                   alpha=alpha,\n",
    "                   rho_w=rho_w, \n",
    "                   rho_s=rho_s, \n",
    "                   dn50=dn50)\n",
    "\n",
    "mc"
   ]
  },
  {
   "cell_type": "code",
   "execution_count": null,
   "metadata": {},
   "outputs": [],
   "source": []
  }
 ],
 "metadata": {
  "kernelspec": {
   "display_name": "Python 3",
   "language": "python",
   "name": "python3"
  },
  "language_info": {
   "codemirror_mode": {
    "name": "ipython",
    "version": 3
   },
   "file_extension": ".py",
   "mimetype": "text/x-python",
   "name": "python",
   "nbconvert_exporter": "python",
   "pygments_lexer": "ipython3",
   "version": "3.8.5"
  }
 },
 "nbformat": 4,
 "nbformat_minor": 4
}
